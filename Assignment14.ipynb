{
 "cells": [
  {
   "cell_type": "markdown",
   "id": "e471fadf",
   "metadata": {},
   "source": [
    "### Solution (1)"
   ]
  },
  {
   "cell_type": "markdown",
   "id": "3b44c370",
   "metadata": {},
   "source": [
    "* A ability of processor to execute multiple thread independently.\n",
    "* A main motive is to use the multithread which saves time and also improve performance of code.\n",
    "* Module name is threading"
   ]
  },
  {
   "cell_type": "markdown",
   "id": "6a474bdb",
   "metadata": {},
   "source": [
    "### Solution (2)"
   ]
  },
  {
   "cell_type": "markdown",
   "id": "0912911c",
   "metadata": {},
   "source": [
    "* Allow you to create thread and threads allows a program to operate more efficiently by doing multiple things at the same time.\n",
    "\n",
    "1. activeCount():\n",
    "* it is used count active thread and running thread\n",
    "\n",
    "2. currentThread():\n",
    "* used to return current thread object\n",
    "\n",
    "3. enumerate()\n",
    "* Return a list of all Thread objects currently active."
   ]
  },
  {
   "cell_type": "markdown",
   "id": "132d8aba",
   "metadata": {},
   "source": [
    "### Solution (3)\n",
    "1. run()\n",
    "* Method representing the thread’s activity.\n",
    "2. start()\n",
    "* Start the thread’s activity.\n",
    "3. join()\n",
    "* Wait until the thread terminates. This blocks the calling thread until the thread whose join() method is called terminates \n",
    "4. isAlive()\n",
    "* Return True or False if thread is alive or not"
   ]
  },
  {
   "cell_type": "markdown",
   "id": "2bc202e8",
   "metadata": {},
   "source": [
    "### Solution (4)"
   ]
  },
  {
   "cell_type": "code",
   "execution_count": 1,
   "id": "913e7090",
   "metadata": {},
   "outputs": [],
   "source": [
    "import threading"
   ]
  },
  {
   "cell_type": "code",
   "execution_count": 9,
   "id": "3bad7d6f",
   "metadata": {},
   "outputs": [],
   "source": [
    "def square(n):\n",
    "    print('Square of number: ',n * n)"
   ]
  },
  {
   "cell_type": "code",
   "execution_count": 10,
   "id": "6c1c562b",
   "metadata": {},
   "outputs": [],
   "source": [
    "def cube(n):\n",
    "    print('Cube of number: ',n * n * n)"
   ]
  },
  {
   "cell_type": "code",
   "execution_count": 11,
   "id": "e0d77600",
   "metadata": {},
   "outputs": [],
   "source": [
    "thread1 = [threading.Thread(target=square,args=(i,)) for i in [2,3,4]]"
   ]
  },
  {
   "cell_type": "code",
   "execution_count": 12,
   "id": "76c5f543",
   "metadata": {},
   "outputs": [
    {
     "name": "stdout",
     "output_type": "stream",
     "text": [
      "Square of number:  4\n",
      "Square of number:  9\n",
      "Square of number:  16\n"
     ]
    }
   ],
   "source": [
    "for t in thread1:\n",
    "    t.start()"
   ]
  },
  {
   "cell_type": "code",
   "execution_count": 13,
   "id": "7aa52121",
   "metadata": {},
   "outputs": [],
   "source": [
    "thread2 = [threading.Thread(target=cube,args=(i,)) for i in [2,3,4]]"
   ]
  },
  {
   "cell_type": "code",
   "execution_count": 14,
   "id": "feda7091",
   "metadata": {},
   "outputs": [
    {
     "name": "stdout",
     "output_type": "stream",
     "text": [
      "Cube of number:  8\n",
      "Cube of number:  27\n",
      "Cube of number:  64\n"
     ]
    }
   ],
   "source": [
    "for t in thread2:\n",
    "    t.start()"
   ]
  },
  {
   "cell_type": "markdown",
   "id": "156b7175",
   "metadata": {},
   "source": [
    "### Solution (5)\n",
    "#### Advantages:\n",
    "* Enhance the performance and decreases the time.\n",
    "* Better use of CPU resource\n",
    "* Decreased cost of maintenance\n",
    "#### Disadvantages:\n",
    "* Complex debugging and testing processes\n",
    "* Increased difficulty level in writing a program\n",
    "* Unpredictable results"
   ]
  },
  {
   "cell_type": "markdown",
   "id": "4d726653",
   "metadata": {},
   "source": [
    "### Solution (6)\n",
    "#### Deadlock:\n",
    "* When two processes waiting for each other directly or indirectly, it is called deadlock.\n",
    "#### Race Conditons:\n",
    "* When two processes are competing each other causing data corruption."
   ]
  },
  {
   "cell_type": "code",
   "execution_count": null,
   "id": "de65a8df",
   "metadata": {},
   "outputs": [],
   "source": []
  }
 ],
 "metadata": {
  "kernelspec": {
   "display_name": "Python 3 (ipykernel)",
   "language": "python",
   "name": "python3"
  },
  "language_info": {
   "codemirror_mode": {
    "name": "ipython",
    "version": 3
   },
   "file_extension": ".py",
   "mimetype": "text/x-python",
   "name": "python",
   "nbconvert_exporter": "python",
   "pygments_lexer": "ipython3",
   "version": "3.11.1"
  }
 },
 "nbformat": 4,
 "nbformat_minor": 5
}
